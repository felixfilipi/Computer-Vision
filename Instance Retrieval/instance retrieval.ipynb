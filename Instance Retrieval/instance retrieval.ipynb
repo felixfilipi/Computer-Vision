{
 "cells": [
  {
   "cell_type": "code",
   "execution_count": 4,
   "id": "58db349a",
   "metadata": {},
   "outputs": [],
   "source": [
    "import os\n",
    "import cv2\n",
    "from scipy.spatial.distance import euclidean\n",
    "import matplotlib.pyplot as plt"
   ]
  },
  {
   "cell_type": "code",
   "execution_count": 14,
   "id": "9a4ced5a",
   "metadata": {},
   "outputs": [
    {
     "name": "stdout",
     "output_type": "stream",
     "text": [
      "japanese-dango-04.jpg 0.0\n",
      "tart-05.jpg 0.059464212507009506\n",
      "seaweed-03.jpg 0.061725545674562454\n",
      "japanese-dango-03.jpg 0.07970559597015381\n",
      "cheese-03.jpg 0.09618690609931946\n",
      "tart-02.jpg 0.12683701515197754\n",
      "seaweed-01.jpg 0.14732572436332703\n",
      "japanese-dango-02.jpg 0.1994008868932724\n",
      "seaweed-05.jpg 0.24691754579544067\n",
      "tart-04.jpg 0.3044765591621399\n",
      "japanese-dango-05.jpg 0.5661762356758118\n",
      "seaweed-02.jpg 0.8762022256851196\n",
      "seaweed-04.jpg 1.0889942646026611\n",
      "cookie-01.jpg 1.1702922582626343\n",
      "cookie-03.jpg 1.2023093700408936\n",
      "cheese-04.jpg 1.2686792612075806\n",
      "japanese-dango-01.jpg 1.2914949655532837\n",
      "cookie-04.jpg 1.3581585884094238\n",
      "tart-01.jpg 1.3811883926391602\n",
      "cheese-05.jpg 1.4068890810012817\n",
      "cookie-05.jpg 1.408715844154358\n",
      "tart-03.jpg 1.4137827157974243\n",
      "cookie-02.jpg 1.4140547513961792\n",
      "cheese-01.jpg 1.4141511917114258\n",
      "cheese-02.jpg 1.414178729057312\n"
     ]
    }
   ],
   "source": [
    "image_dir = 'images'\n",
    "histograms = []\n",
    "\n",
    "for filename in os.listdir(image_dir):\n",
    "    \n",
    "    if filename == \"Thumbs.db\":\n",
    "        continue\n",
    "    \n",
    "    image_bgr = cv2.imread(image_dir+'/'+filename)\n",
    "    image_rgb = cv2.cvtColor(image_bgr, cv2.COLOR_BGR2RGB)\n",
    "    \n",
    "    #image, channel (rgb, bgr, etc), \n",
    "    #mask (which part of image you want to analyze),histsize (interval / bins)\n",
    "    histogram = cv2.calcHist([image_rgb],[0,1,2], None, [8,8,8], [0, 256, 0, 256, 0, 256]) \n",
    "    norm_hist = cv2.normalize(histogram, None)\n",
    "    \n",
    "    flat_hist = norm_hist.flatten()\n",
    "    histograms.append((filename,flat_hist))\n",
    "    \n",
    "test_image_bgr = cv2.imread('images/japanese-dango-04.jpg')\n",
    "test_image_rgb = cv2.cvtColor(test_image_bgr, cv2.COLOR_BGR2RGB)\n",
    "test_histogram = cv2.calcHist([test_image_rgb], [0,1,2], None, [8,8,8], [0,256,0,256,0,256])\n",
    "test_norm_hist = cv2.normalize(test_histogram, None)\n",
    "\n",
    "test_flat_hist = test_norm_hist.flatten()\n",
    "\n",
    "result = []\n",
    "for name, hist in histograms:\n",
    "    distance = euclidean(test_flat_hist, hist)\n",
    "    result.append((distance, name))\n",
    "\n",
    "sorted_result = sorted(result)\n",
    "for dst, name in sorted_result:\n",
    "    print(name, dst)"
   ]
  }
 ],
 "metadata": {
  "kernelspec": {
   "display_name": "Python 3 (ipykernel)",
   "language": "python",
   "name": "python3"
  },
  "language_info": {
   "codemirror_mode": {
    "name": "ipython",
    "version": 3
   },
   "file_extension": ".py",
   "mimetype": "text/x-python",
   "name": "python",
   "nbconvert_exporter": "python",
   "pygments_lexer": "ipython3",
   "version": "3.9.2"
  }
 },
 "nbformat": 4,
 "nbformat_minor": 5
}
