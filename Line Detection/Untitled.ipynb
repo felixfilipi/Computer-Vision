{
 "cells": [
  {
   "cell_type": "code",
   "execution_count": 1,
   "id": "atlantic-justice",
   "metadata": {},
   "outputs": [],
   "source": [
    "import cv2\n",
    "import numpy as np"
   ]
  },
  {
   "cell_type": "code",
   "execution_count": 2,
   "id": "informational-judge",
   "metadata": {},
   "outputs": [],
   "source": [
    "img=cv2.imread('image.jpg')"
   ]
  },
  {
   "cell_type": "code",
   "execution_count": null,
   "id": "civilian-sullivan",
   "metadata": {},
   "outputs": [],
   "source": [
    "def get_grayscale(image):\n",
    "    return cv2.cvtColor(image,cv2.COLOR_BGR2GRAY)"
   ]
  }
 ],
 "metadata": {
  "kernelspec": {
   "display_name": "Python 3",
   "language": "python",
   "name": "python3"
  },
  "language_info": {
   "codemirror_mode": {
    "name": "ipython",
    "version": 3
   },
   "file_extension": ".py",
   "mimetype": "text/x-python",
   "name": "python",
   "nbconvert_exporter": "python",
   "pygments_lexer": "ipython3",
   "version": "3.7.9"
  }
 },
 "nbformat": 4,
 "nbformat_minor": 5
}
