{
 "cells": [
  {
   "cell_type": "code",
   "execution_count": null,
   "id": "varied-blackjack",
   "metadata": {},
   "outputs": [],
   "source": [
    "import cv2\n",
    "\n",
    "cap = cv2.VideoCapture(0)\n",
    "\n",
    "#line1\n",
    "coor1=(0,250)\n",
    "coor2=(700,250)\n",
    "color1=(0,255,0)\n",
    "thickness=2\n",
    "\n",
    "#line2\n",
    "coor3=(310,0)\n",
    "coor4=(310,500)\n",
    "\n",
    "#circle\n",
    "center_coordinates=(310,250)\n",
    "radius=120\n",
    "color2=(0,0,255)\n",
    "\n",
    "#rectangle\n",
    "start=(10,470)\n",
    "end=(240,410)\n",
    "color3=(255,255,255)\n",
    "\n",
    "#text\n",
    "text='Felix Filipi'\n",
    "coor5=(10,450)\n",
    "font=cv2.FONT_HERSHEY_SIMPLEX\n",
    "fontScale=1.5\n",
    "color4=(255,0,0)\n",
    "\n",
    "if cap.isOpened(): # init first frame\n",
    "    rval, frame = cap.read()\n",
    "else:\n",
    "    rval = False\n",
    "\n",
    "while rval:\n",
    "    cv2.imshow(\"preview\", frame)\n",
    "    rval, frame = cap.read()\n",
    "    key = cv2.waitKey(0) #press any button (except ESC to read cap)\n",
    "    if key == 27: # exit on ESC\n",
    "        break\n",
    "    else:\n",
    "        #cv2.line(img,(x1,y1),(x2,y2),color,thickness)\n",
    "        cv2.line(frame, coor1, coor2, color1, thickness)\n",
    "        cv2.line(frame, coor3, coor4, color1, thickness)\n",
    "        cv2.circle(frame, center_coordinates, radius, color2, thickness)\n",
    "        cv2.rectangle(frame, start, end, color3, -1)\n",
    "        cv2.putText(frame,'Felix Filipi',coor5,font,fontScale,color4,thickness,cv2.LINE_AA)\n",
    "\n",
    "cap.release()\n",
    "cv2.destroyAllWindows()   "
   ]
  }
 ],
 "metadata": {
  "kernelspec": {
   "display_name": "Python 3",
   "language": "python",
   "name": "python3"
  },
  "language_info": {
   "codemirror_mode": {
    "name": "ipython",
    "version": 3
   },
   "file_extension": ".py",
   "mimetype": "text/x-python",
   "name": "python",
   "nbconvert_exporter": "python",
   "pygments_lexer": "ipython3",
   "version": "3.7.9"
  }
 },
 "nbformat": 4,
 "nbformat_minor": 5
}
