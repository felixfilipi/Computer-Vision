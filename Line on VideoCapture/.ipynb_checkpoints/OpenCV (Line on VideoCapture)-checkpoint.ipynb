{
 "cells": [
  {
   "cell_type": "code",
   "execution_count": 11,
   "id": "varied-blackjack",
   "metadata": {},
   "outputs": [],
   "source": [
    "import cv2\n",
    "\n",
    "cap = cv2.VideoCapture(0)\n",
    "center_coordinates\n",
    "radiucolor, thickness\n",
    "if cap.isOpened(): # init first frame\n",
    "    rval, frame = cap.read()\n",
    "else:\n",
    "    rval = False\n",
    "\n",
    "while rval:\n",
    "    cv2.imshow(\"preview\", frame)\n",
    "    rval, frame = cap.read()\n",
    "    key = cv2.waitKey(0) #press any button (except ESC to read cap)\n",
    "    if key == 27: # exit on ESC\n",
    "        break\n",
    "    else:\n",
    "        #cv2.line(img,(x1,y1),(x2,y2),color,thickness)\n",
    "        cv2.line(frame, (0, 250), (700, 250), (0, 255, 0), 2)\n",
    "        cv2.line(frame, (310, 0), (310, 500), (0, 255, 0), 2)\n",
    "        cv2.circle(frame, (310,250), 120, (0,0,255), 2)\n",
    "\n",
    "cap.release()\n",
    "cv2.destroyAllWindows()   "
   ]
  }
 ],
 "metadata": {
  "kernelspec": {
   "display_name": "Python 3",
   "language": "python",
   "name": "python3"
  },
  "language_info": {
   "codemirror_mode": {
    "name": "ipython",
    "version": 3
   },
   "file_extension": ".py",
   "mimetype": "text/x-python",
   "name": "python",
   "nbconvert_exporter": "python",
   "pygments_lexer": "ipython3",
   "version": "3.7.9"
  }
 },
 "nbformat": 4,
 "nbformat_minor": 5
}
